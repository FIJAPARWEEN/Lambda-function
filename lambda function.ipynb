{
 "cells": [
  {
   "cell_type": "code",
   "execution_count": 1,
   "id": "96392f2f-acf9-44f9-9332-c8cdc7c482fe",
   "metadata": {},
   "outputs": [],
   "source": [
    "n = 3\n",
    "p = 2"
   ]
  },
  {
   "cell_type": "code",
   "execution_count": 2,
   "id": "a720b2b9-bf9e-453b-b6a6-3606ada0b8ed",
   "metadata": {},
   "outputs": [],
   "source": [
    "def test(n , p):\n",
    "    return n**p"
   ]
  },
  {
   "cell_type": "code",
   "execution_count": 3,
   "id": "ba3c4862-4816-4f8a-870e-e2e7bfdd39a1",
   "metadata": {},
   "outputs": [
    {
     "data": {
      "text/plain": [
       "9"
      ]
     },
     "execution_count": 3,
     "metadata": {},
     "output_type": "execute_result"
    }
   ],
   "source": [
    "test(3,2)"
   ]
  },
  {
   "cell_type": "code",
   "execution_count": 4,
   "id": "ebf05654-21d1-4b60-af8f-aa3e52b929b8",
   "metadata": {},
   "outputs": [
    {
     "data": {
      "text/plain": [
       "9"
      ]
     },
     "execution_count": 4,
     "metadata": {},
     "output_type": "execute_result"
    }
   ],
   "source": [
    "add = lambda x,y :x+y\n",
    "add (4,5)"
   ]
  },
  {
   "cell_type": "code",
   "execution_count": 5,
   "id": "35f0170a-74ba-4018-8f98-34e7c7797faa",
   "metadata": {},
   "outputs": [
    {
     "data": {
      "text/plain": [
       "113.0"
      ]
     },
     "execution_count": 5,
     "metadata": {},
     "output_type": "execute_result"
    }
   ],
   "source": [
    "c_to_f = lambda c : (9/5)* c +32\n",
    "c_to_f(45)"
   ]
  },
  {
   "cell_type": "code",
   "execution_count": 6,
   "id": "3257d8c0-6e16-417c-a471-79d57cca625c",
   "metadata": {},
   "outputs": [
    {
     "data": {
      "text/plain": [
       "34"
      ]
     },
     "execution_count": 6,
     "metadata": {},
     "output_type": "execute_result"
    }
   ],
   "source": [
    "finding_max = lambda x , y : x if x > y else y \n",
    "finding_max(34,23)"
   ]
  },
  {
   "cell_type": "code",
   "execution_count": null,
   "id": "f37c6f9e-a704-45b3-ac37-d5161cfafcb2",
   "metadata": {},
   "outputs": [],
   "source": [
    "s = \"pwskills\"\n",
    "find_len"
   ]
  }
 ],
 "metadata": {
  "kernelspec": {
   "display_name": "Python 3 (ipykernel)",
   "language": "python",
   "name": "python3"
  },
  "language_info": {
   "codemirror_mode": {
    "name": "ipython",
    "version": 3
   },
   "file_extension": ".py",
   "mimetype": "text/x-python",
   "name": "python",
   "nbconvert_exporter": "python",
   "pygments_lexer": "ipython3",
   "version": "3.10.8"
  }
 },
 "nbformat": 4,
 "nbformat_minor": 5
}
